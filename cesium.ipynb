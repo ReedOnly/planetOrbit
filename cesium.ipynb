{
 "cells": [
  {
   "cell_type": "code",
   "execution_count": 1,
   "id": "e88c4388",
   "metadata": {},
   "outputs": [],
   "source": [
    "from poliastro.czml.extract_czml import CZMLExtractor\n",
    "from poliastro.examples import molniya"
   ]
  },
  {
   "cell_type": "code",
   "execution_count": 6,
   "id": "32e612a2",
   "metadata": {},
   "outputs": [],
   "source": [
    "start_epoch = molniya.epoch\n",
    "end_epoch = molniya.epoch + molniya.period\n",
    "N = 80\n",
    "extractor = CZMLExtractor(\n",
    "        start_epoch,\n",
    "        end_epoch,\n",
    "        N\n",
    "    )\n",
    "\n",
    "extractor.add_orbit(molniya,\n",
    "              id_name=\"MolniyaOrbit\",\n",
    "              path_width=2,\n",
    "              label_text=\"Molniya\",\n",
    "              label_fill_color=[125, 80, 120, 255]\n",
    "             )\n",
    "\n"
   ]
  },
  {
   "cell_type": "code",
   "execution_count": 4,
   "id": "4ca47a26",
   "metadata": {},
   "outputs": [
    {
     "data": {
      "text/plain": [
       "[Preamble(id='document', version='1.0', name='document_packet', description=None, clock=IntervalValue(_start=<Time object: scale='tt' format='isot' value=2000-01-01T12:00:00.000>, _end=<Time object: scale='tt' format='isot' value=2000-01-01T23:59:35.108>, _value=Clock(currentTime=datetime.datetime(2000, 1, 1, 12, 0, tzinfo=datetime.timezone.utc), multiplier=60, range=<ClockRanges.LOOP_STOP: 3>, step=<ClockSteps.SYSTEM_CLOCK_MULTIPLIER: 2>))),\n",
       " Packet(id='custom_properties', delete=None, name=None, parent=None, description=None, availability=None, properties={'custom_attractor': True, 'ellipsoid': [{'array': (3396190.0, 3396190.0, 3376220.0)}], 'map_url': 'https://upload.wikimedia.org/wikipedia/commons/f/fd/Mars_2020_LandingSites_Final_8-full.jpg', 'scene3D': True}, position=None, orientation=None, viewFrom=None, billboard=None, box=None, corridor=None, cylinder=None, ellipse=None, ellipsoid=None, label=None, model=None, path=None, point=None, polygon=None, polyline=None, rectangle=None, tileset=None, wall=None)]"
      ]
     },
     "execution_count": 4,
     "metadata": {},
     "output_type": "execute_result"
    }
   ],
   "source": [
    "from poliastro.bodies import Mars\n",
    "\n",
    "mars_uv = \"https://upload.wikimedia.org/wikipedia/commons/f/fd/Mars_2020_LandingSites_Final_8-full.jpg\"\n",
    "\n",
    "extractor = CZMLExtractor(\n",
    "        start_epoch,\n",
    "        end_epoch,\n",
    "        N,\n",
    "        attractor=Mars,\n",
    "        pr_map=mars_uv\n",
    ")\n",
    "\n",
    "extractor.packets\n",
    "\n",
    "extractor = CZMLExtractor(\n",
    "        start_epoch,\n",
    "        end_epoch,\n",
    "        N,\n",
    "        scene3D=False\n",
    ")"
   ]
  },
  {
   "cell_type": "code",
   "execution_count": 5,
   "id": "0e941c0c",
   "metadata": {},
   "outputs": [
    {
     "data": {
      "text/plain": [
       "[Preamble(id='document', version='1.0', name='document_packet', description=None, clock=IntervalValue(_start=<Time object: scale='tt' format='isot' value=2000-01-01T12:00:00.000>, _end=<Time object: scale='tt' format='isot' value=2000-01-01T23:59:35.108>, _value=Clock(currentTime=datetime.datetime(2000, 1, 1, 12, 0, tzinfo=datetime.timezone.utc), multiplier=60, range=<ClockRanges.LOOP_STOP: 3>, step=<ClockSteps.SYSTEM_CLOCK_MULTIPLIER: 2>))),\n",
       " Packet(id='custom_properties', delete=None, name=None, parent=None, description=None, availability=None, properties={'custom_attractor': True, 'ellipsoid': [{'array': (3396190.0, 3396190.0, 3376220.0)}], 'map_url': 'https://upload.wikimedia.org/wikipedia/commons/f/fd/Mars_2020_LandingSites_Final_8-full.jpg', 'scene3D': True}, position=None, orientation=None, viewFrom=None, billboard=None, box=None, corridor=None, cylinder=None, ellipse=None, ellipsoid=None, label=None, model=None, path=None, point=None, polygon=None, polyline=None, rectangle=None, tileset=None, wall=None)]"
      ]
     },
     "execution_count": 5,
     "metadata": {},
     "output_type": "execute_result"
    }
   ],
   "source": [
    "extractor.packets"
   ]
  }
 ],
 "metadata": {
  "kernelspec": {
   "display_name": "Python 3 (ipykernel)",
   "language": "python",
   "name": "python3"
  },
  "language_info": {
   "codemirror_mode": {
    "name": "ipython",
    "version": 3
   },
   "file_extension": ".py",
   "mimetype": "text/x-python",
   "name": "python",
   "nbconvert_exporter": "python",
   "pygments_lexer": "ipython3",
   "version": "3.8.10"
  }
 },
 "nbformat": 4,
 "nbformat_minor": 5
}
